{
 "metadata": {
  "language": "Julia",
  "name": "",
  "signature": "sha256:e6d38d336ddcef568e81cb4c71b725e8be29779071fa91397b2d9d16dde3b2fb"
 },
 "nbformat": 3,
 "nbformat_minor": 0,
 "worksheets": [
  {
   "cells": [
    {
     "cell_type": "code",
     "collapsed": false,
     "input": [
      "using ogre"
     ],
     "language": "python",
     "metadata": {},
     "outputs": [],
     "prompt_number": 1
    },
    {
     "cell_type": "code",
     "collapsed": false,
     "input": [
      "mh1 = readdlm(\"data/M-R/madhu/fe.out\"; skipstart=1)\n",
      "mh2 = readdlm(\"data/M-R/madhu/perovskite.out\"; skipstart=1)\n",
      "mh3 = readdlm(\"data/M-R/madhu/h2o.out\"; skipstart=1)\n",
      "\n",
      "madhu_fe_curve = eos.lininterp(mh1[:,1], mh1[:,2])\n",
      "madhu_pv_curve = eos.lininterp(mh2[:,1], mh2[:,2])\n",
      "madhu_h2o_curve = eos.lininterp(mh3[:,1], mh3[:,2])"
     ],
     "language": "python",
     "metadata": {},
     "outputs": [
      {
       "metadata": {},
       "output_type": "pyout",
       "prompt_number": 2,
       "text": [
        "interp_func (generic function with 1 method)"
       ]
      }
     ],
     "prompt_number": 2
    },
    {
     "cell_type": "code",
     "collapsed": false,
     "input": [
      "# constants\n",
      "const P_surface = 1e5\n",
      "const mass_fractions = [1.]\n",
      "const total_points = 100\n",
      "const R_bracket = [1., 2.] .* R_earth\n",
      "\n",
      "# this equation does not change with composition\n",
      "const pressure_balance_eq = StructureEquation(pressure_balance)\n",
      "\n",
      "# ...whereas the equation of mass continuity does\n",
      "function setup_system(M::Real, eos::EOS)\n",
      "    # planet layer options\n",
      "    layer_densities = [eos]\n",
      "    layer_edges = [0, cumsum(M.*mass_fractions)]\n",
      "\n",
      "    # ODE system options\n",
      "    m_inner, m_outer = layer_edges[1], layer_edges[end]\n",
      "    solution_grid = linspace(m_outer, m_inner, total_points)\n",
      "\n",
      "    # density-dependent equations change if layers or the EOS change\n",
      "    density_profile = MassPiecewiseEOS(layer_densities, layer_edges)\n",
      "    mass_continuity_with_eos(vs) = mass_continuity(vs, density_profile)\n",
      "    mass_continuity_eq = StructureEquation(mass_continuity_with_eos)\n",
      "    structure_equations = EquationSet([mass_continuity_eq,\n",
      "                                       pressure_balance_eq])\n",
      "\n",
      "    integrator.setup_find_radius(m_outer, mean(R_bracket), P_surface,\n",
      "                                 structure_equations, solution_grid, R_bracket)\n",
      "end\n",
      "\n",
      "# radius finder for a solid sphere\n",
      "function R(M::Real, eos::EOS; in_earth_units=false)\n",
      "    Mscale = in_earth_units ? M_earth : 1\n",
      "    Rscale = in_earth_units ? 1/R_earth : 1\n",
      "\n",
      "    planet_system = setup_system(M * Mscale, eos)\n",
      "    r = find_radius!(planet_system) * Rscale\n",
      "\n",
      "    r::Float64\n",
      "end\n",
      "\n",
      "# vectorized form of the above\n",
      "function R{T<:Real}(ms::Vector{T}, eos::EOS; in_earth_units=false)\n",
      "    R_withEOS(M::T) = R(M::T, eos; in_earth_units=in_earth_units)\n",
      "    map(R_withEOS, ms)\n",
      "end"
     ],
     "language": "python",
     "metadata": {},
     "outputs": [
      {
       "metadata": {},
       "output_type": "pyout",
       "prompt_number": 3,
       "text": [
        "R (generic function with 2 methods)"
       ]
      }
     ],
     "prompt_number": 3
    },
    {
     "cell_type": "code",
     "collapsed": false,
     "input": [
      "@show R(8, eos.fe; in_earth_units=true)\n",
      "@show madhu_fe_curve(8)"
     ],
     "language": "python",
     "metadata": {},
     "outputs": []
    },
    {
     "cell_type": "code",
     "collapsed": false,
     "input": [],
     "language": "python",
     "metadata": {},
     "outputs": []
    }
   ],
   "metadata": {}
  }
 ]
}