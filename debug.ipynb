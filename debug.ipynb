{
 "metadata": {
  "language": "Julia",
  "name": "",
  "signature": "sha256:65f64fd3ada99f5365702e6fe085dfd68ca1a63746df89d0bf9af737aaefb0cb"
 },
 "nbformat": 3,
 "nbformat_minor": 0,
 "worksheets": [
  {
   "cells": [
    {
     "cell_type": "code",
     "collapsed": false,
     "input": [
      "using Ogre"
     ],
     "language": "python",
     "metadata": {},
     "outputs": [],
     "prompt_number": 1
    },
    {
     "cell_type": "code",
     "collapsed": false,
     "input": [
      "mh1 = readdlm(\"data/M-R/madhu/fe.out\"; skipstart=1)\n",
      "mh2 = readdlm(\"data/M-R/madhu/perovskite.out\"; skipstart=1)\n",
      "mh3 = readdlm(\"data/M-R/madhu/h2o.out\"; skipstart=1)\n",
      "\n",
      "madhu_fe_curve = Eos.lininterp(mh1[:,1], mh1[:,2])\n",
      "madhu_pv_curve = Eos.lininterp(mh2[:,1], mh2[:,2])\n",
      "madhu_h2o_curve = Eos.lininterp(mh3[:,1], mh3[:,2])"
     ],
     "language": "python",
     "metadata": {},
     "outputs": [
      {
       "metadata": {},
       "output_type": "pyout",
       "prompt_number": 2,
       "text": [
        "interp_func (generic function with 1 method)"
       ]
      }
     ],
     "prompt_number": 2
    },
    {
     "cell_type": "code",
     "collapsed": false,
     "input": [
      "@show R(8, Eos.fe_seager; in_earth_units=true)"
     ],
     "language": "python",
     "metadata": {},
     "outputs": [
      {
       "output_type": "stream",
       "stream": "stdout",
       "text": [
        "R(8,Eos.fe_seager; in_earth_units=true) => 1.3302821293473244"
       ]
      },
      {
       "output_type": "stream",
       "stream": "stdout",
       "text": [
        "\n"
       ]
      },
      {
       "metadata": {},
       "output_type": "pyout",
       "prompt_number": 3,
       "text": [
        "1.3302821293473244"
       ]
      }
     ],
     "prompt_number": 3
    },
    {
     "cell_type": "code",
     "collapsed": false,
     "input": [],
     "language": "python",
     "metadata": {},
     "outputs": []
    },
    {
     "cell_type": "code",
     "collapsed": false,
     "input": [],
     "language": "python",
     "metadata": {},
     "outputs": []
    }
   ],
   "metadata": {}
  }
 ]
}